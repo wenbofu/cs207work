{
 "cells": [
  {
   "cell_type": "markdown",
   "metadata": {
    "collapsed": true
   },
   "source": [
    "## Q1.\n",
    "\n",
    "Add a __setitem__ to the python linked list implementation from the lecture (this past wednesday)."
   ]
  },
  {
   "cell_type": "code",
   "execution_count": 1,
   "metadata": {
    "collapsed": true
   },
   "outputs": [],
   "source": [
    "# In this code, I add a setitem function such that we can update the LL class value. It looks\n",
    "# quite similar as the getitem function, the only difference is that there is an extra input \n",
    "#called \"inputvalue\", and the index-th element can be replaced by \"inputvalue\".\n",
    "\n",
    "\n",
    "\n",
    "#---my code---\n",
    "\n",
    "from doctest import run_docstring_examples as dtest\n",
    "import numbers\n",
    "import reprlib\n",
    "class LL:\n",
    "    \"\"\"\n",
    "    >>> A = LL()  \n",
    "    >>> A[0]\n",
    "    Traceback (most recent call last):\n",
    "        ...\n",
    "    IndexError: trying to index an empty LL\n",
    "    >>> A.insert_front(1)\n",
    "    >>> A[0]\n",
    "    1\n",
    "    >>> A.insert_back(2)\n",
    "    >>> A[1]\n",
    "    2\n",
    "    >>> A\n",
    "    LL([1,...])\n",
    "    >>> myll = LL.from_components([1,2])\n",
    "    >>> myll[1]\n",
    "    1\n",
    "    >>> len(myll)\n",
    "    2\n",
    "    >>> myll[2]\n",
    "    Traceback (most recent call last):\n",
    "        ...\n",
    "    IndexError: LL index out of range\n",
    "    >>> myll[0:1]\n",
    "    Traceback (most recent call last):\n",
    "        ...\n",
    "    TypeError: LL indices must be integers\n",
    "    \"\"\"\n",
    "    @classmethod\n",
    "    def from_components(cls, components):\n",
    "        inst = cls(components[0])\n",
    "        for c in components[1:]:\n",
    "            inst.insert_front(c)\n",
    "        return inst\n",
    "        \n",
    "    def __init__(self, head=None):\n",
    "        if head is None:\n",
    "            self._headNode = None\n",
    "        else:\n",
    "            self._headNode = [head, None]\n",
    "            \n",
    "    def insert_front(self, element):\n",
    "        new_node = [element, None]\n",
    "        new_node[1] = self._headNode\n",
    "        self._headNode = new_node\n",
    "        \n",
    "    def insert_back(self, element):\n",
    "        new_node = [element, None]\n",
    "        curr_ptr = self._headNode\n",
    "        while curr_ptr[1] is not None:\n",
    "            curr_ptr = curr_ptr[1]\n",
    "        curr_ptr[1]= new_node\n",
    "        \n",
    "    def __repr__(self):\n",
    "        class_name = type(self).__name__\n",
    "        if len(self)==0:\n",
    "            components=\"\"\n",
    "        else:\n",
    "            components = reprlib.repr(self[0])\n",
    "        return '{}([{},...])'.format(class_name,components)\n",
    "\n",
    "\n",
    "    def __len__(self):\n",
    "        curr_ptr = self._headNode\n",
    "        count = 0\n",
    "        if curr_ptr==None:\n",
    "            return 0\n",
    "        while 1:\n",
    "            count = count + 1\n",
    "            if curr_ptr[1] is None:\n",
    "                break\n",
    "            curr_ptr = curr_ptr[1]\n",
    "        return count    \n",
    "    \n",
    "    def __getitem__(self, index):\n",
    "        class_name = type(self).__name__\n",
    "        if isinstance(index, numbers.Integral): \n",
    "            curr_ptr = self._headNode\n",
    "            if curr_ptr==None:\n",
    "                msg = 'trying to index an empty {class_name}' \n",
    "                raise IndexError(msg.format(class_name=class_name))\n",
    "            next_ptr = self._headNode[1]\n",
    "            count = 0\n",
    "            while 1:\n",
    "                if index == count:\n",
    "                    return curr_ptr[0]\n",
    "                if curr_ptr[1] is None:\n",
    "                    msg = '{class_name} index out of range' \n",
    "                    raise IndexError(msg.format(class_name=class_name))       \n",
    "                count += 1\n",
    "                curr_ptr = curr_ptr[1]\n",
    "        else:\n",
    "            msg = '{class_name} indices must be integers' \n",
    "            raise TypeError(msg.format(class_name=class_name))\n",
    "            \n",
    "            \n",
    "    \n",
    "    \n",
    "    def __setitem__(self, index,inputvalue):\n",
    "        class_name = type(self).__name__\n",
    "        if isinstance(index, numbers.Integral): \n",
    "            curr_ptr = self._headNode\n",
    "            if curr_ptr==None:\n",
    "                msg = 'trying to index an empty {class_name}' \n",
    "                raise IndexError(msg.format(class_name=class_name))\n",
    "            next_ptr = self._headNode[1]\n",
    "            count = 0\n",
    "            while 1:\n",
    "                if index == count:\n",
    "                    curr_ptr[0]=inputvalue\n",
    "                    break\n",
    "                if curr_ptr[1] is None:\n",
    "                    msg = '{class_name} index out of range' \n",
    "                    raise IndexError(msg.format(class_name=class_name))       \n",
    "                count += 1\n",
    "                curr_ptr = curr_ptr[1]\n",
    "        else:\n",
    "            msg = '{class_name} indices must be integers' \n",
    "            raise TypeError(msg.format(class_name=class_name))\n",
    "    \n",
    "#---my code---\n"
   ]
  },
  {
   "cell_type": "code",
   "execution_count": 89,
   "metadata": {
    "collapsed": false
   },
   "outputs": [
    {
     "name": "stdout",
     "output_type": "stream",
     "text": [
      "4\n",
      "3\n",
      "2\n",
      "1\n"
     ]
    }
   ],
   "source": [
    "myll=LL.from_components([1,2,3,4])\n",
    "for i in range(4):\n",
    "    print(myll[i])"
   ]
  },
  {
   "cell_type": "code",
   "execution_count": 90,
   "metadata": {
    "collapsed": false
   },
   "outputs": [
    {
     "name": "stdout",
     "output_type": "stream",
     "text": [
      "4\n",
      "3\n",
      "15\n",
      "1\n"
     ]
    }
   ],
   "source": [
    "myll[2]=15\n",
    "for i in range(4):\n",
    "    print(myll[i])"
   ]
  },
  {
   "cell_type": "markdown",
   "metadata": {},
   "source": [
    "## Q2.\n",
    "\n",
    "An online mean and standard deviation algorithm.\n",
    "\n",
    "Below is a function to generate a potentially infinite stream of 1-D data."
   ]
  },
  {
   "cell_type": "code",
   "execution_count": 20,
   "metadata": {
    "collapsed": false
   },
   "outputs": [],
   "source": [
    "from random import normalvariate, random\n",
    "from itertools import count\n",
    "def make_data(m, stop=None):\n",
    "    for _ in count():\n",
    "        if stop and _ > stop:\n",
    "            break\n",
    "        yield 1.0e09 + normalvariate(0, m*random() )\n",
    "        "
   ]
  },
  {
   "cell_type": "markdown",
   "metadata": {},
   "source": [
    "Here is an implementation of an online mean algorithm..see http://www.johndcook.com/blog/standard_deviation/ and the link to http://www.johndcook.com/blog/2008/09/26/comparing-three-methods-of-computing-standard-deviation/ in-between. (Convince yourselves of the formulas...)"
   ]
  },
  {
   "cell_type": "code",
   "execution_count": 47,
   "metadata": {
    "collapsed": true
   },
   "outputs": [],
   "source": [
    "def online_mean(iterator):\n",
    "    n = 0\n",
    "    mu = 0\n",
    "    for value in iterator:\n",
    "        n += 1\n",
    "        delta = value - mu\n",
    "        mu = mu + delta/n\n",
    "        yield mu"
   ]
  },
  {
   "cell_type": "markdown",
   "metadata": {},
   "source": [
    "We use out generator functions to implement iterators:"
   ]
  },
  {
   "cell_type": "code",
   "execution_count": 48,
   "metadata": {
    "collapsed": false
   },
   "outputs": [
    {
     "data": {
      "text/plain": [
       "[999999998.8350539,\n",
       " 999999998.6622325,\n",
       " 999999998.1279993,\n",
       " 999999999.7966716,\n",
       " 1000000001.0162525,\n",
       " 999999998.5764637,\n",
       " 1000000000.3032913,\n",
       " 999999987.477318,\n",
       " 1000000002.0430906,\n",
       " 999999995.7887349,\n",
       " 999999998.6627296]"
      ]
     },
     "execution_count": 48,
     "metadata": {},
     "output_type": "execute_result"
    }
   ],
   "source": [
    "g = make_data(5, 10)\n",
    "list(g)"
   ]
  },
  {
   "cell_type": "code",
   "execution_count": 51,
   "metadata": {
    "collapsed": false
   },
   "outputs": [
    {
     "name": "stdout",
     "output_type": "stream",
     "text": [
      "<class 'generator'>\n"
     ]
    },
    {
     "data": {
      "text/plain": [
       "[1000000000.1600801,\n",
       " 1000000001.7910769,\n",
       " 999999999.2347101,\n",
       " 999999999.4686148,\n",
       " 1000000000.51961,\n",
       " 1000000001.0945039,\n",
       " 1000000001.4512502,\n",
       " 1000000001.3884614,\n",
       " 1000000001.3230431,\n",
       " 1000000001.0255578,\n",
       " 1000000000.87244,\n",
       " 1000000000.6644453,\n",
       " 1000000000.6998587,\n",
       " 1000000000.4319091,\n",
       " 1000000000.4600757,\n",
       " 1000000000.3952086,\n",
       " 1000000000.3950349,\n",
       " 1000000000.7133272,\n",
       " 1000000000.7595834,\n",
       " 1000000000.7373261,\n",
       " 1000000000.7951703,\n",
       " 1000000000.7453622,\n",
       " 1000000000.8809742,\n",
       " 1000000000.8128328,\n",
       " 1000000000.8257184,\n",
       " 1000000000.6878866,\n",
       " 1000000000.6600592,\n",
       " 1000000000.4296086,\n",
       " 1000000000.6916718,\n",
       " 1000000000.6714065,\n",
       " 1000000000.3939966,\n",
       " 1000000000.5684698,\n",
       " 1000000000.6424285,\n",
       " 1000000000.759797,\n",
       " 1000000000.7162762,\n",
       " 1000000000.6348596,\n",
       " 1000000000.757717,\n",
       " 1000000000.7198724,\n",
       " 1000000000.7163035,\n",
       " 1000000000.6338576,\n",
       " 1000000000.6964575,\n",
       " 1000000000.6752988,\n",
       " 1000000000.7411385,\n",
       " 1000000000.7834854,\n",
       " 1000000000.7735944,\n",
       " 1000000000.6609162,\n",
       " 1000000000.6502516,\n",
       " 1000000000.6274301,\n",
       " 1000000000.5891193,\n",
       " 1000000000.6864934,\n",
       " 1000000000.6644284,\n",
       " 1000000000.6165693,\n",
       " 1000000000.485758,\n",
       " 1000000000.4462043,\n",
       " 1000000000.4458965,\n",
       " 1000000000.4366789,\n",
       " 1000000000.4149065,\n",
       " 1000000000.4060657,\n",
       " 1000000000.3810803,\n",
       " 1000000000.3838961,\n",
       " 1000000000.2639995,\n",
       " 1000000000.3047644,\n",
       " 1000000000.2804923,\n",
       " 1000000000.2631073,\n",
       " 1000000000.1608524,\n",
       " 1000000000.1911811,\n",
       " 1000000000.2073683,\n",
       " 1000000000.1823304,\n",
       " 1000000000.18041,\n",
       " 1000000000.0653552,\n",
       " 1000000000.074774,\n",
       " 1000000000.0624309,\n",
       " 1000000000.0447986,\n",
       " 1000000000.061911,\n",
       " 1000000000.0771364,\n",
       " 1000000000.0781103,\n",
       " 1000000000.0061975,\n",
       " 999999999.9973062,\n",
       " 999999999.9772941,\n",
       " 999999999.9614928,\n",
       " 999999999.9609263,\n",
       " 999999999.9415736,\n",
       " 999999999.9497533,\n",
       " 999999999.9502777,\n",
       " 999999999.936215,\n",
       " 999999999.9355723,\n",
       " 999999999.9917508,\n",
       " 999999999.9928999,\n",
       " 999999999.961628,\n",
       " 999999999.9045023,\n",
       " 999999999.9072523,\n",
       " 999999999.8957596,\n",
       " 999999999.9239475,\n",
       " 999999999.923748,\n",
       " 999999999.9039775,\n",
       " 999999999.9328448,\n",
       " 999999999.9497142,\n",
       " 999999999.9434524,\n",
       " 999999999.9854985,\n",
       " 999999999.9875257,\n",
       " 999999999.9948207]"
      ]
     },
     "execution_count": 51,
     "metadata": {},
     "output_type": "execute_result"
    }
   ],
   "source": [
    "g = online_mean(make_data(5, 100))\n",
    "print(type(g))\n",
    "list(g)"
   ]
  },
  {
   "cell_type": "markdown",
   "metadata": {},
   "source": [
    "### 2.1\n",
    "\n",
    "Implement the standard deviation algorithm as a generator function as\n",
    "\n",
    "```python\n",
    "def online_mean_dev(iterator):\n",
    "    BLA BLA\n",
    "    if n > 1:\n",
    "        stddev = math.sqrt(dev_accum/(n-1))\n",
    "        yield (n, value, mu, stddev)\n",
    "```"
   ]
  },
  {
   "cell_type": "code",
   "execution_count": 73,
   "metadata": {
    "collapsed": false
   },
   "outputs": [],
   "source": [
    "#I only return the tuple for n>1, the nth mu and stddev are computed for all the first n data.\n",
    "\n",
    "#---my code---\n",
    "import math\n",
    "def online_mean_dev(iterator):\n",
    "    n=0\n",
    "    mu=0\n",
    "    for value in iterator:\n",
    "        n += 1\n",
    "        delta = value - mu\n",
    "        mu = mu + delta/n\n",
    "        if n==1:\n",
    "            dev_accum=1\n",
    "        if n > 1:\n",
    "            dev_accum=dev_accum+delta*(value-mu)\n",
    "            stddev = math.sqrt(dev_accum/(n-1))\n",
    "            yield (n, value, mu, stddev)\n",
    "#---my code---\n"
   ]
  },
  {
   "cell_type": "markdown",
   "metadata": {},
   "source": [
    "Here we make 100000 element data, and run this iterator on it (imagine running this on a time-series being slowly read from disk"
   ]
  },
  {
   "cell_type": "code",
   "execution_count": 75,
   "metadata": {
    "collapsed": false
   },
   "outputs": [
    {
     "data": {
      "text/plain": [
       "[(2, 999999996.5173925, 999999999.3745904, 4.162590433715784),\n",
       " (3, 999999999.2823373, 999999999.3438394, 2.943877789368583),\n",
       " (4, 1000000003.5861564, 1000000000.4044187, 3.205764210742907),\n",
       " (5, 1000000000.9287807, 1000000000.509291, 2.786159405367253),\n",
       " (6, 1000000002.5652553, 1000000000.8519517, 2.6295713634660913),\n",
       " (7, 999999995.1783599, 1000000000.0414386, 3.218808049128254),\n",
       " (8, 1000000001.7895849, 1000000000.2599568, 3.0434558630351844),\n",
       " (9, 999999999.499576, 1000000000.1754701, 2.8581528585533973),\n",
       " (10, 999999998.1229995, 999999999.9702231, 2.7717558415182),\n",
       " (11, 999999994.7897527, 999999999.4992713, 3.058450509869348),\n",
       " (12, 1000000000.3979354, 999999999.57416, 2.927634673792371),\n",
       " (13, 999999999.8115932, 999999999.592424, 2.8037702391044346),\n",
       " (14, 1000000000.4586751, 999999999.6542991, 2.703705751133293),\n",
       " (15, 1000000000.217386, 999999999.6918383, 2.6094095019672507),\n",
       " (16, 999999999.7828447, 999999999.6975262, 2.5210317439477397),\n",
       " (17, 999999999.7915852, 999999999.7030591, 2.441085087725787),\n",
       " (18, 999999999.9288667, 999999999.715604, 2.3687983906308676),\n",
       " (19, 999999994.2736723, 999999999.4291865, 2.618804372014555),\n",
       " (20, 1000000000.508097, 999999999.483132, 2.5603484522678275),\n",
       " (21, 1000000000.2276231, 999999999.518584, 2.5008016018607844),\n",
       " (22, 1000000000.2901186, 999999999.5536537, 2.446069550165257),\n",
       " (23, 999999999.664515, 999999999.5584738, 2.389942344243896),\n",
       " (24, 999999995.3851422, 999999999.384585, 2.487806246409775),\n",
       " (25, 1000000000.4202875, 999999999.4260131, 2.44421860876579),\n",
       " (26, 999999993.127626, 999999999.1837674, 2.694623049509944),\n",
       " (27, 1000000000.0598748, 999999999.2162158, 2.6476692961450357),\n",
       " (28, 1000000000.1597378, 999999999.2499131, 2.604287134081131),\n",
       " (29, 999999997.2668637, 999999999.181532, 2.583735472171361),\n",
       " (30, 1000000000.4441708, 999999999.2236199, 2.5492419877448618),\n",
       " (31, 999999998.9033148, 999999999.2132875, 2.50705466282544),\n",
       " (32, 999999997.5465362, 999999999.1612015, 2.4838246902825234),\n",
       " (33, 999999998.20301, 999999999.1321653, 2.4503905723443085),\n",
       " (34, 999999999.8221695, 999999999.1524595, 2.4158777148043704),\n",
       " (35, 1000000002.7317655, 999999999.2547253, 2.4557779416535417),\n",
       " (36, 999999999.4681387, 999999999.2606535, 2.4207024970285267),\n",
       " (37, 1000000001.614956, 999999999.3242832, 2.4180223609970413),\n",
       " (38, 1000000000.1440369, 999999999.3458557, 2.3888268573244873),\n",
       " (39, 999999999.6568646, 999999999.3538303, 2.3577113974726855),\n",
       " (40, 1000000000.0362828, 999999999.3708917, 2.3297882211159466),\n",
       " (41, 999999996.8738658, 999999999.3099886, 2.3333006374643843),\n",
       " (42, 1000000000.5065926, 999999999.3384792, 2.312054539075896),\n",
       " (43, 999999997.0348228, 999999999.2849058, 2.3112193326710315),\n",
       " (44, 1000000002.5519601, 999999999.3591571, 2.3366838093535294),\n",
       " (45, 999999995.6767592, 999999999.277326, 2.374306797797625),\n",
       " (46, 1000000004.0137262, 999999999.3802912, 2.4494373259150555),\n",
       " (47, 999999999.3721955, 999999999.380119, 2.422667003073089),\n",
       " (48, 999999995.9309865, 999999999.308262, 2.447913480331916),\n",
       " (49, 1000000001.2481642, 999999999.3478519, 2.4380815508488074),\n",
       " (50, 999999999.6620463, 999999999.3541358, 2.4134839874195873),\n",
       " (51, 1000000000.2937073, 999999999.3725587, 2.392846956380497),\n",
       " (52, 1000000002.7538353, 999999999.4375832, 2.4152253722030728),\n",
       " (53, 999999995.5128552, 999999999.3635317, 2.4518903683827062),\n",
       " (54, 1000000004.5366226, 999999999.4593297, 2.5286178999854383),\n",
       " (55, 999999998.132849, 999999999.4352119, 2.5114725981031203),\n",
       " (56, 1000000000.6774967, 999999999.4573956, 2.494067222386051),\n",
       " (57, 1000000005.9214108, 999999999.5707994, 2.6157861125751953),\n",
       " (58, 999999999.05846, 999999999.561966, 2.5936117104727914),\n",
       " (59, 1000000001.0465667, 999999999.5871286, 2.5784100958284477),\n",
       " (60, 999999996.7504661, 999999999.539851, 2.5825623314609927),\n",
       " (61, 999999998.4724965, 999999999.5223533, 2.5645942916808013),\n",
       " (62, 999999999.5333146, 999999999.5225301, 2.5434865417357906),\n",
       " (63, 1000000003.0490471, 999999999.5785066, 2.5617146202879018),\n",
       " (64, 1000000001.1091045, 999999999.6024222, 2.548494096601725),\n",
       " (65, 999999999.8493812, 999999999.6062216, 2.5286911342736444),\n",
       " (66, 999999997.7798215, 999999999.5785488, 2.519215513214631),\n",
       " (67, 1000000001.6326113, 999999999.6092064, 2.5126203939185214),\n",
       " (68, 999999999.7482444, 999999999.6112511, 2.4938560006067827),\n",
       " (69, 1000000002.479791, 999999999.6528242, 2.4994221589477474),\n",
       " (70, 1000000000.9183254, 999999999.6709027, 2.485850310127405),\n",
       " (71, 1000000000.7669613, 999999999.6863402, 2.4714558919913103),\n",
       " (72, 1000000000.1282752, 999999999.6924782, 2.4545421813904493),\n",
       " (73, 999999995.0699024, 999999999.6291553, 2.4967609057684674),\n",
       " (74, 999999999.2201871, 999999999.6236287, 2.4800565512167587),\n",
       " (75, 999999994.534838, 999999999.5557781, 2.532358665483141),\n",
       " (76, 999999998.4288307, 999999999.54095, 2.518739076680251),\n",
       " (77, 1000000000.6683278, 999999999.5555912, 2.505409843628079),\n",
       " (78, 1000000006.1304499, 999999999.6398842, 2.5980325140268614),\n",
       " (79, 999999997.883981, 999999999.6176577, 2.588873344635106),\n",
       " (80, 999999994.324669, 999999999.5514953, 2.6396255429501507),\n",
       " (81, 1000000004.1450843, 999999999.6082063, 2.6722714358433817),\n",
       " (82, 999999995.1272506, 999999999.5535605, 2.701432790855363),\n",
       " (83, 1000000000.0276225, 999999999.559272, 2.6854142981464486),\n",
       " (84, 999999998.2530808, 999999999.5437222, 2.672990114078714),\n",
       " (85, 1000000000.3234159, 999999999.5528951, 2.658377348529777),\n",
       " (86, 1000000000.9994441, 999999999.5697154, 2.6472930979622227),\n",
       " (87, 1000000000.0207078, 999999999.5748992, 2.632300964881613),\n",
       " (88, 1000000002.6453491, 999999999.6097907, 2.6375172279631602),\n",
       " (89, 999999999.6821113, 999999999.6106033, 2.6224997218430315),\n",
       " (90, 999999996.7764605, 999999999.5791129, 2.624781507503296),\n",
       " (91, 1000000000.5602667, 999999999.5898948, 2.612184319708199),\n",
       " (92, 999999995.122019, 999999999.5413309, 2.639223493569957),\n",
       " (93, 1000000000.6864767, 999999999.5536443, 2.6275253221477546),\n",
       " (94, 999999999.9852965, 999999999.5582364, 2.613739871432553),\n",
       " (95, 999999999.8494458, 999999999.5613017, 2.599971499504109),\n",
       " (96, 1000000001.708357, 999999999.5836669, 2.5955181938991596),\n",
       " (97, 1000000000.2583767, 999999999.5906227, 2.582873150304335),\n",
       " (98, 999999999.6648381, 999999999.59138, 2.569535815787044),\n",
       " (99, 1000000000.4557235, 999999999.6001108, 2.557867876626192),\n",
       " (100, 1000000000.3017626, 999999999.6071273, 2.5458836321492178),\n",
       " (101, 999999999.7527016, 999999999.6085687, 2.5331636453989)]"
      ]
     },
     "execution_count": 75,
     "metadata": {},
     "output_type": "execute_result"
    }
   ],
   "source": [
    "data_with_stats = online_mean_dev(make_data(5, 100))\n",
    "list(data_with_stats)"
   ]
  },
  {
   "cell_type": "markdown",
   "metadata": {},
   "source": [
    "## Q3.\n",
    "\n",
    "Let's do Anomaly detection. Write a routine `is_ok`:\n",
    "\n",
    "```python\n",
    "def is_ok(level, t)\n",
    "```\n",
    "\n",
    "which takes a tuple like the one yielded by your code above and returns True if the value is inbetween `level`-$\\sigma$ of the mean."
   ]
  },
  {
   "cell_type": "code",
   "execution_count": 82,
   "metadata": {
    "collapsed": true
   },
   "outputs": [],
   "source": [
    "#I define an if evironment to identify data within the level-sigma of the mean to be true, data\n",
    "#out of the level-sigma of mean to be false.\n",
    "\n",
    "#---my code---\n",
    "def is_ok(level, t):\n",
    "    if abs((t[1]-t[2]))<=t[3]*level:\n",
    "        return True\n",
    "    else:\n",
    "        return False\n",
    "#---my code---\n"
   ]
  },
  {
   "cell_type": "markdown",
   "metadata": {},
   "source": [
    "We use this function to create a predicate passed through to `itertools.filterfalse` which is then used to obtain an iterator on the anomalies."
   ]
  },
  {
   "cell_type": "code",
   "execution_count": 87,
   "metadata": {
    "collapsed": true
   },
   "outputs": [],
   "source": [
    "from itertools import filterfalse\n",
    "pred = lambda t: is_ok(5, t)\n",
    "data_with_stats = online_mean_dev(make_data(5, 100000))\n",
    "anomalies = filterfalse(pred, data_with_stats)"
   ]
  },
  {
   "cell_type": "markdown",
   "metadata": {},
   "source": [
    "We materialize the anomalies..."
   ]
  },
  {
   "cell_type": "code",
   "execution_count": 88,
   "metadata": {
    "collapsed": false
   },
   "outputs": [
    {
     "data": {
      "text/plain": [
       "[(4655, 999999982.9437093, 999999999.9539038, 2.909108680409208),\n",
       " (9085, 1000000014.8395774, 999999999.9982778, 2.8930338122406023),\n",
       " (9212, 999999983.9161415, 999999999.9967102, 2.906613916730326),\n",
       " (10460, 1000000015.1951613, 999999999.9927577, 2.911572456877827),\n",
       " (15716, 999999984.1705588, 1000000000.0054377, 2.8905218408903406),\n",
       " (19558, 999999985.1361129, 1000000000.0065602, 2.893592484316599),\n",
       " (20428, 999999985.5241315, 1000000000.005749, 2.8942979097522774),\n",
       " (21424, 1000000014.7055452, 1000000000.0082661, 2.899864920070999),\n",
       " (22388, 1000000015.2967234, 1000000000.0094241, 2.89087074663386),\n",
       " (23555, 1000000015.8199799, 1000000000.0089207, 2.8859480873806325),\n",
       " (23880, 999999984.3995495, 1000000000.0121511, 2.8916829718061483),\n",
       " (29758, 999999983.8629681, 1000000000.007168, 2.8908233194131365),\n",
       " (33613, 999999983.7063079, 999999999.9984668, 2.8886429808134184),\n",
       " (33739, 999999983.5603104, 999999999.99775, 2.8886308150626894),\n",
       " (37045, 999999982.933813, 1000000000.001018, 2.8832790394891847),\n",
       " (52463, 999999985.2664806, 1000000000.0065814, 2.877881616752433),\n",
       " (58297, 1000000020.8910222, 1000000000.0059072, 2.8802428403572113),\n",
       " (80338, 1000000015.3177885, 1000000000.0079184, 2.88859726652612),\n",
       " (81749, 999999983.3382473, 1000000000.006956, 2.8909433343969413),\n",
       " (82425, 999999985.2905502, 1000000000.0056946, 2.8910853822218923),\n",
       " (82490, 1000000014.9875839, 1000000000.0053608, 2.891592692540833),\n",
       " (88053, 1000000015.7932657, 1000000000.0055261, 2.8878806923160876),\n",
       " (90089, 1000000019.1227603, 1000000000.0066797, 2.8871110296860807),\n",
       " (90158, 999999982.8267945, 1000000000.0069308, 2.887734256178559),\n",
       " (92934, 1000000014.5092565, 1000000000.0072875, 2.8877175157979287),\n",
       " (92971, 1000000017.9346052, 1000000000.0071633, 2.8885247232933304),\n",
       " (93587, 1000000014.5535154, 1000000000.0069562, 2.8896401203665087),\n",
       " (94352, 999999981.7182674, 1000000000.007142, 2.89057983285903),\n",
       " (94773, 1000000015.6940883, 1000000000.0075002, 2.890909479939994),\n",
       " (95182, 1000000014.7485166, 1000000000.0077076, 2.8910638178157573)]"
      ]
     },
     "execution_count": 88,
     "metadata": {},
     "output_type": "execute_result"
    }
   ],
   "source": [
    "list(anomalies)#materialize"
   ]
  },
  {
   "cell_type": "markdown",
   "metadata": {},
   "source": [
    "## To think of, but not hand in\n",
    "\n",
    "What kinds of anomalies will this algorithm pick up? What kinds would a shorter \"window\" of anomaly detection, like 100 points around the time in question pick? How might you create an algorithm which does window based averaging? (hint: the window size is small compared to the time series size). \n",
    "\n",
    "Finally think a bit of how you might implement all of this in a production environment..remember that data streaming in might get backed up when you handle an anomaly.\n",
    "\n",
    "(Some inspiration might accrue if you look at the docs for `collections.deque`)."
   ]
  }
 ],
 "metadata": {
  "anaconda-cloud": {},
  "kernelspec": {
   "display_name": "Python [py35]",
   "language": "python",
   "name": "Python [py35]"
  },
  "language_info": {
   "codemirror_mode": {
    "name": "ipython",
    "version": 3
   },
   "file_extension": ".py",
   "mimetype": "text/x-python",
   "name": "python",
   "nbconvert_exporter": "python",
   "pygments_lexer": "ipython3",
   "version": "3.5.2"
  }
 },
 "nbformat": 4,
 "nbformat_minor": 0
}
