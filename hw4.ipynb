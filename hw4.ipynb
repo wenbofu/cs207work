{
 "cells": [
  {
   "cell_type": "markdown",
   "metadata": {},
   "source": [
    "## Q1.\n",
    "\n",
    "Use github to integrate our math library from the lab with Travis CI and Coveralls.\n",
    "In the cell below, put a link to your github `cs207test` repo so we can track your badges."
   ]
  },
  {
   "cell_type": "markdown",
   "metadata": {},
   "source": [
    "*https://github.com/wenbofu/cs207test*"
   ]
  },
  {
   "cell_type": "markdown",
   "metadata": {},
   "source": [
    "## Q2.\n",
    "\n",
    "Take the implementation of binary search from a previous lecture/lab. Write unit tests for the algorithm (remember we have doctests in there), stripping the doctests down to those that illustrate the interface for a user. How do these doctests deal with the concerns we had?\n",
    "\n",
    "Make sure you have good test coverage. You will be integrationg with Travis and Coveralls."
   ]
  },
  {
   "cell_type": "code",
   "execution_count": 263,
   "metadata": {
    "collapsed": false
   },
   "outputs": [
    {
     "name": "stdout",
     "output_type": "stream",
     "text": [
      "Overwriting binsearch.py\n"
     ]
    }
   ],
   "source": [
    "%%file binsearch.py\n",
    "\n",
    "import numpy as np\n",
    "def binary_search(da_array: list, needle, left:int=0, right:int=-1) -> int:\n",
    "    \"\"\"\n",
    "    An algorithm that operates in O(lg(n)) to search for an element\n",
    "    in an array sorted in ascending order.\n",
    "    \n",
    "    Parameters\n",
    "    ----------\n",
    "    da_array : list\n",
    "        a list of \"comparable\"items sorted in non-descending order\n",
    "    needle: an item to find in the array; it may or may not\n",
    "        be in the array\n",
    "    left: int, optional\n",
    "        the left index in the array to search from. Default 0\n",
    "    right: int, optional\n",
    "        the right index in the array to search to. Default is -1\n",
    "        in which case we will use the end of the array `len(da_array) - 1`\n",
    "        \n",
    "    Returns\n",
    "    -------\n",
    "    index: int\n",
    "        an integer representing the index of `needle` if found, and -1\n",
    "        otherwise\n",
    "        \n",
    "    Notes\n",
    "    -----\n",
    "    PRE: `da_array` is sorted in non-decreasing order (thus items in\n",
    "        `da_array` must be comparable: implement < and ==)\n",
    "    POST: \n",
    "        - `da_array` is not changed by this function (immutable)\n",
    "        - returns `index`=-1 if `needle` is not in `da_array`\n",
    "        - returns an int `index ` in [0:len(da_array)] if\n",
    "          `index` is in `da_array`\n",
    "    INVARIANTS:\n",
    "        - If `needle` in `da_array`, needle in `da_array[rangemin:rangemax]`\n",
    "          is a loop invariant in the while loop below.\n",
    "          \n",
    "    Examples\n",
    "    --------\n",
    "    >>> input = list(range(10))\n",
    "    >>> binary_search(input, 5)\n",
    "    5\n",
    "    >>> binary_search(input, 4.5)\n",
    "    -1\n",
    "    >>> binary_search(input, 10)\n",
    "    -1\n",
    "    >>> binary_search([5], 5)\n",
    "    0\n",
    "    >>> binary_search([5], 4)\n",
    "    -1\n",
    "    >>> import numpy as np\n",
    "    >>> binary_search([1,2,np.inf], 2)\n",
    "    1\n",
    "    >>> binary_search([1,2,np.inf], np.inf)\n",
    "    2\n",
    "    >>> binary_search(input, 5, 1,3)\n",
    "    -1\n",
    "    >>> binary_search(input, 2, 1,3)\n",
    "    2\n",
    "    >>> binary_search(input, 2, 3, 1)\n",
    "    -1\n",
    "    >>> binary_search(input, 2, 2, 2)\n",
    "    2\n",
    "    >>> binary_search(input, 5, 2, 2)\n",
    "    -1\n",
    "    \"\"\"\n",
    "    terror=[];\n",
    "    verror=[];\n",
    "    if not (isinstance(da_array,list) or isinstance(da_array,tuple)):\n",
    "        terror.append(\"The array is not a list or a tuple\")\n",
    "    n = len(da_array)\n",
    "    if n==0:\n",
    "        verror.append(\"The list length is 0\")\n",
    "    else:\n",
    "        if not all(isinstance(x,(int,float)) for x in da_array):\n",
    "            terror.append(\"There is non numeric element in the list\")\n",
    "        else:\n",
    "            if needle > max(da_array):\n",
    "                verror.append(\"needle is larger than the largest value of the list\")\n",
    "            if needle < min(da_array):\n",
    "                verror.append(\"needle is smaller than the smallest value of the list\")\n",
    "            if (np.nan in da_array):\n",
    "                terror.append(\"There is missing data in the list\")\n",
    "    \n",
    "    if (len(terror)>0):\n",
    "        raise TypeError(terror)\n",
    "    if verror:\n",
    "        raise ValueError(verror)\n",
    "        \n",
    "        \n",
    "   \n",
    "\n",
    "\n",
    "\n",
    "    if left==0:\n",
    "        rangemin = 0\n",
    "    else:\n",
    "        rangemin = left\n",
    "    if right==-1:\n",
    "        rangemax=len(da_array) - 1\n",
    "    else:\n",
    "        rangemax=right\n",
    "    while True:\n",
    "        \"needle in da_array => needle in da_array[rangemin:rangemax]\"   \n",
    "        if rangemin > rangemax:\n",
    "            index = -1\n",
    "            return index\n",
    "        #If rangemin and rangemax are both very high we do not want overflow,\n",
    "        #so get the midpoint like this:\n",
    "        midpoint = rangemin + (rangemax - rangemin)//2\n",
    "        if da_array[midpoint] > needle:#lower part\n",
    "            rangemax = midpoint - 1\n",
    "        elif da_array[midpoint] < needle:\n",
    "            rangemin = midpoint + 1\n",
    "        else:\n",
    "            index = midpoint\n",
    "            return index\n"
   ]
  },
  {
   "cell_type": "code",
   "execution_count": 264,
   "metadata": {
    "collapsed": false
   },
   "outputs": [
    {
     "name": "stdout",
     "output_type": "stream",
     "text": [
      "Overwriting test_binsearch.py\n"
     ]
    }
   ],
   "source": [
    "%%file test_binsearch.py\n",
    "import numpy as np\n",
    "from pytest import raises\n",
    "from binsearch import binary_search\n",
    "\n",
    "def test_doc():\n",
    "    input=list(range(10))\n",
    "    assert binary_search(input,5) == 5\n",
    "    assert binary_search(input, 4.5)==-1\n",
    "#    assert binary_search(input, 10) == -1\n",
    "# We have treated this case as an needle too large error\n",
    "    assert binary_search([5], 5) == 0\n",
    "    assert binary_search([1,2,np.inf], np.inf)==2\n",
    "    assert binary_search(input, 5, 1,3)==-1\n",
    "    assert binary_search(input, 2, 1,3)==2\n",
    "    assert binary_search(input, 2, 3, 1)==-1\n",
    "    assert binary_search(input, 2, 2, 2)==2\n",
    "    assert binary_search(input, 5, 2, 2)==-1\n",
    "\n",
    "\n",
    "\n",
    "\n",
    "def test_notlist():\n",
    "    with raises(TypeError):\n",
    "        binary_search(5,2)\n",
    "\n",
    "def test_zerolist():\n",
    "    with raises(ValueError):\n",
    "        binary_search([],2)       \n",
    "        \n",
    "def test_char():\n",
    "    with raises(TypeError):\n",
    "        binary_search(['a',3],1)\n",
    "        \n",
    "def test_largerneedle():\n",
    "    with raises(ValueError):\n",
    "        binary_search([1,4,5,7],10)\n",
    "\n",
    "def test_smallerneedle():\n",
    "    with raises(ValueError):\n",
    "        binary_search([1,4,5,7],0)\n",
    "def test_misselement():\n",
    "    with raises(TypeError):\n",
    "        binary_search([1,np.nan,5,6],5)\n"
   ]
  },
  {
   "cell_type": "code",
   "execution_count": 265,
   "metadata": {
    "collapsed": false
   },
   "outputs": [
    {
     "name": "stdout",
     "output_type": "stream",
     "text": [
      "\u001b[1m============================= test session starts ==============================\u001b[0m\n",
      "platform darwin -- Python 3.5.2, pytest-2.9.2, py-1.4.31, pluggy-0.3.1\n",
      "rootdir: /Users/wenbofu/cs207-2016/homeworks, inifile: \n",
      "plugins: cov-2.3.1\n",
      "collected 7 items \n",
      "\u001b[0m\n",
      "test_binsearch.py .......\n",
      "\n",
      "---------- coverage: platform darwin, python 3.5.2-final-0 -----------\n",
      "Name                Stmts   Miss  Cover   Missing\n",
      "-------------------------------------------------\n",
      "binsearch.py           38      0   100%\n",
      "test_binsearch.py      32      0   100%\n",
      "-------------------------------------------------\n",
      "TOTAL                  70      0   100%\n",
      "\n",
      "\n",
      "\u001b[32m\u001b[1m=========================== 7 passed in 0.43 seconds ===========================\u001b[0m\n"
     ]
    }
   ],
   "source": [
    "!py.test --cov --cov-report term-missing binsearch.py test_binsearch.py"
   ]
  },
  {
   "cell_type": "code",
   "execution_count": 266,
   "metadata": {
    "collapsed": false
   },
   "outputs": [
    {
     "name": "stdout",
     "output_type": "stream",
     "text": [
      "Cloning into '/tmp/cs207binsearch'...\n",
      "remote: Counting objects: 17, done.\u001b[K\n",
      "remote: Compressing objects: 100% (14/14), done.\u001b[K\n",
      "remote: Total 17 (delta 5), reused 10 (delta 1), pack-reused 0\u001b[K\n",
      "Receiving objects: 100% (17/17), done.\n",
      "Resolving deltas: 100% (5/5), done.\n",
      "Checking connectivity... done.\n"
     ]
    }
   ],
   "source": [
    "!rm -rf /tmp/cs207binsearch\n",
    "!git clone git@github.com:wenbofu/cs207binsearch.git /tmp/cs207binsearch"
   ]
  },
  {
   "cell_type": "code",
   "execution_count": 267,
   "metadata": {
    "collapsed": true
   },
   "outputs": [],
   "source": [
    "!cp binsearch.py test_binsearch.py /tmp/cs207binsearch/"
   ]
  },
  {
   "cell_type": "code",
   "execution_count": 268,
   "metadata": {
    "collapsed": false
   },
   "outputs": [
    {
     "name": "stdout",
     "output_type": "stream",
     "text": [
      "Overwriting /tmp/cs207binsearch/setup.cfg\n"
     ]
    }
   ],
   "source": [
    "%%file /tmp/cs207binsearch/setup.cfg\n",
    "[pytest]\n",
    "addopts =  --cov-report term-missing --cov binsearch"
   ]
  },
  {
   "cell_type": "code",
   "execution_count": 269,
   "metadata": {
    "collapsed": false
   },
   "outputs": [
    {
     "name": "stdout",
     "output_type": "stream",
     "text": [
      "Overwriting /tmp/cs207binsearch/.travis.yml\n"
     ]
    }
   ],
   "source": [
    "%%file /tmp/cs207binsearch/.travis.yml\n",
    "language: python\n",
    "python:\n",
    "    - \"3.5\"\n",
    "before_install:\n",
    "    - pip install pytest pytest-cov\n",
    "script:\n",
    "    - py.test"
   ]
  },
  {
   "cell_type": "code",
   "execution_count": 270,
   "metadata": {
    "collapsed": false
   },
   "outputs": [
    {
     "name": "stdout",
     "output_type": "stream",
     "text": [
      "/tmp/cs207binsearch ~/cs207-2016/homeworks\n",
      "[master 166ef7e] travis integration\n",
      " 1 file changed, 1 insertion(+), 4 deletions(-)\n",
      "~/cs207-2016/homeworks\n"
     ]
    },
    {
     "name": "stderr",
     "output_type": "stream",
     "text": [
      "To git@github.com:wenbofu/cs207binsearch.git\n",
      "   266b8c5..166ef7e  master -> master\n"
     ]
    }
   ],
   "source": [
    "%%bash\n",
    "pushd /tmp/cs207binsearch\n",
    "git add .\n",
    "git commit -m \"travis integration\" -a\n",
    "git push\n",
    "popd"
   ]
  },
  {
   "cell_type": "code",
   "execution_count": 271,
   "metadata": {
    "collapsed": false
   },
   "outputs": [
    {
     "name": "stdout",
     "output_type": "stream",
     "text": [
      "Overwriting /tmp/cs207binsearch/.travis.yml\n"
     ]
    }
   ],
   "source": [
    "%%file /tmp/cs207binsearch/.travis.yml\n",
    "language: python\n",
    "python:\n",
    "    - \"3.5\"\n",
    "before_install:\n",
    "    - pip install pytest pytest-cov\n",
    "    - pip install coveralls\n",
    "script:\n",
    "    - py.test\n",
    "after_success:\n",
    "    - coveralls"
   ]
  },
  {
   "cell_type": "code",
   "execution_count": 272,
   "metadata": {
    "collapsed": false
   },
   "outputs": [
    {
     "name": "stdout",
     "output_type": "stream",
     "text": [
      "/tmp/cs207binsearch ~/cs207-2016/homeworks\n",
      "[master 6f47c9a] added coveralls\n",
      " 1 file changed, 4 insertions(+), 1 deletion(-)\n",
      "~/cs207-2016/homeworks\n"
     ]
    },
    {
     "name": "stderr",
     "output_type": "stream",
     "text": [
      "To git@github.com:wenbofu/cs207binsearch.git\n",
      "   166ef7e..6f47c9a  master -> master\n"
     ]
    }
   ],
   "source": [
    "%%bash\n",
    "pushd /tmp/cs207binsearch\n",
    "git add .\n",
    "git commit -m \"added coveralls\" -a\n",
    "git push\n",
    "popd"
   ]
  },
  {
   "cell_type": "code",
   "execution_count": 273,
   "metadata": {
    "collapsed": false
   },
   "outputs": [
    {
     "name": "stdout",
     "output_type": "stream",
     "text": [
      "Overwriting /tmp/cs207binsearch/README.md\n"
     ]
    }
   ],
   "source": [
    "%%file /tmp/cs207binsearch/README.md\n",
    "\n",
    "# cs207test\n",
    "\n",
    "[![Build Status](https://travis-ci.org/wenbofu/cs207binsearch.svg?branch=master)](https://travis-ci.org/wenbofu/cs207binsearch)\n",
    "\n",
    "[![Coverage Status](https://coveralls.io/repos/github/wenbofu/cs207binsearch/badge.svg?branch=master)](https://coveralls.io/github/wenbofu/cs207binsearch?branch=master)"
   ]
  },
  {
   "cell_type": "code",
   "execution_count": 274,
   "metadata": {
    "collapsed": false
   },
   "outputs": [
    {
     "name": "stdout",
     "output_type": "stream",
     "text": [
      "/tmp/cs207binsearch ~/cs207-2016/homeworks\n",
      "On branch master\n",
      "Your branch is up-to-date with 'origin/master'.\n",
      "nothing to commit, working tree clean\n",
      "~/cs207-2016/homeworks\n"
     ]
    },
    {
     "name": "stderr",
     "output_type": "stream",
     "text": [
      "Everything up-to-date\n"
     ]
    }
   ],
   "source": [
    "%%bash\n",
    "pushd /tmp/cs207binsearch\n",
    "git add .\n",
    "git commit -m \"added badges\" -a\n",
    "git push\n",
    "popd"
   ]
  },
  {
   "cell_type": "markdown",
   "metadata": {},
   "source": [
    "In addition, we should be **systematic** about testing our code. You should at-least jave some tests like this:\n",
    "\n",
    "1. We should test with wierd data, ie a wierd array: does it have NANs, is it numeric? Does it have 0 elelemts? 1 element? 2?...ie test the boundaries\n",
    "\n",
    "2. Then think of how the needle relates to the above. Try needles less than or greter than the range in the sorted array, besides needles inbetween (in both cases the needle not being in the array). Try needles at the extremes of the array.\n",
    "\n",
    "3. test the integration of 1 and 2 to make sure something has not gone wrong there.\n",
    "\n",
    "Note: you can always compare your answers with linear search implemented in python."
   ]
  },
  {
   "cell_type": "markdown",
   "metadata": {},
   "source": [
    "For reference, here are some of our concerns from that lab:\n",
    "\n",
    "#### What's happened to our issue from before?\n",
    "\n",
    "- What if the value is not there in the array? What if it is there multiple times? what are we returning (why the -1). Are we consistent in our returning?\n",
    "\n",
    "We return -1 if the element is not in the array. If it is there multiple times, we will return one of them: it is not defined which. We are consistent by always returning an int, choosing one which cannot be an index.\n",
    "\n",
    "- What if rangemax is so high as to create overflow: \n",
    "\n",
    "We fixed it by using the difference and have documented it in the algorithm\n",
    "\n",
    "\n",
    "- what types are we supporting? . \n",
    "\n",
    "It seems that as long as we have a notion of equals `==`, and a notion of `<` to support sorting we are set. We should document this.\n",
    "\n",
    "- what happens if we have a NaN in our array? Infty?\n",
    "\n",
    "If our preconditions are violated by the user, we can do anything. Doing it nicely might be costly. so we wont.\n",
    "\n",
    "\n",
    "- what if da_array was not an array?\n",
    "\n",
    "The user violated the pre-conditions. Anything could happen. We could check for a list\n",
    "but yhen that would hurt a special class which implemented the python sequence protocol\n",
    "\n",
    "- What happens if array is not sorted: \n",
    "\n",
    "The user violated the pre-conditions. We could return an error, violate post conditions. If we sort it we'd violate the o(lg(n)) notion. (fixing it seems dubious). Can we check if its sorted? This is naively O(n) and breaks our performance specifications. We can create a guard to terminate the array at more than n iterations for the infinite case or let the user have enough rope to hang themselves\n",
    "\n"
   ]
  },
  {
   "cell_type": "markdown",
   "metadata": {},
   "source": [
    "**Submit** this to us by creating a repo `cs207binsearch` under your userid with a file `binarysearch.py` and accompanying test file(s). Intergrate with Travis CI and Coveralls. Set up badges on the README of your repo. Write the link to your repo below."
   ]
  },
  {
   "cell_type": "markdown",
   "metadata": {},
   "source": [
    "https://github.com/wenbofu/cs207binsearch"
   ]
  }
 ],
 "metadata": {
  "anaconda-cloud": {},
  "kernelspec": {
   "display_name": "Python [py35]",
   "language": "python",
   "name": "Python [py35]"
  },
  "language_info": {
   "codemirror_mode": {
    "name": "ipython",
    "version": 3
   },
   "file_extension": ".py",
   "mimetype": "text/x-python",
   "name": "python",
   "nbconvert_exporter": "python",
   "pygments_lexer": "ipython3",
   "version": "3.5.2"
  }
 },
 "nbformat": 4,
 "nbformat_minor": 0
}
